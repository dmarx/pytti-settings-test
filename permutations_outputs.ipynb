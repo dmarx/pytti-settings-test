{
 "cells": [
  {
   "cell_type": "markdown",
   "metadata": {},
   "source": [
    "# Permutation tests"
   ]
  },
  {
   "cell_type": "code",
   "execution_count": null,
   "metadata": {},
   "outputs": [],
   "source": [
    "import re\n",
    "from pathlib import Path\n",
    "\n",
    "#import ipywidgets as widgets\n",
    "#from ipywidgets import Layout, Button, HBox, VBox, Box, Dropdown, Select, Text, Output, IntSlider, Label\n",
    "from IPython.display import display, clear_output, Image, Video\n",
    "import panel as pn\n",
    "\n",
    "\n",
    "#from bokeh.plotting import figure, show, output_notebook\n",
    "#output_notebook()\n",
    "#pn.extension('bokeh')\n",
    "pn.extension()\n",
    "#pn.extension('ipywidgets')\n",
    "\n",
    "import pandas as pd\n",
    "import numpy as np\n",
    "import matplotlib.pyplot as plt"
   ]
  },
  {
   "cell_type": "code",
   "execution_count": null,
   "metadata": {},
   "outputs": [],
   "source": [
    "outputs_root = Path('images_out')\n",
    "folder_prefix = 'permutations_limited_palette_2D'\n",
    "folders = list(outputs_root.glob(f'{folder_prefix}_*'))\n",
    "len(folders)\n",
    "\n",
    "def format_val(v):\n",
    "    try:\n",
    "        v = float(v)\n",
    "        if int(v) == v:\n",
    "            v = int(v)\n",
    "    except:\n",
    "        pass\n",
    "    return v\n",
    "\n",
    "def parse_folder_name(folder):\n",
    "    #chunks = folder.name[1+len(folder_prefix):].split('_')\n",
    "    #chunks = folder.name[1+len(folder_prefix):].split('-')\n",
    "    metadata_string = folder.name[1+len(folder_prefix):]\n",
    "    pattern = r\"_?([a-zA-Z_]+)-([0-9.]+)\"\n",
    "    matches = re.findall(pattern, metadata_string)\n",
    "    d_ = {k:format_val(v) for k,v in matches}\n",
    "    d_['fpath'] = folder\n",
    "    d_['n_images'] = len(list(folder.glob('*.png')))\n",
    "    return d_\n",
    "\n",
    "#parse_folder_name(folders[0])\n",
    "df_meta = pd.DataFrame([parse_folder_name(f) for f in folders])\n",
    "\n",
    "variant_names = [v for v in df_meta.columns.tolist() if v not in ['fpath']]\n",
    "variant_ranges = {v:df_meta[v].unique() for v in variant_names}\n",
    "[v.sort() for v in variant_ranges.values()]\n",
    "True"
   ]
  },
  {
   "cell_type": "code",
   "execution_count": null,
   "metadata": {},
   "outputs": [],
   "source": [
    "[list(v) for v in variant_ranges.values()]"
   ]
  },
  {
   "cell_type": "code",
   "execution_count": 14,
   "metadata": {},
   "outputs": [
    {
     "name": "stdout",
     "output_type": "stream",
     "text": [
      "images_out/permutations_limited_palette_2D_palettes-10_palette_size-3_gamma-0_hdr_weight-0_smoothing_weight-0_palette_normalization_weight-0/permutations_limited_palette_2D_palettes-10_palette_size-3_gamma-0_hdr_weight-0_smoothing_weight-0_palette_normalization_weight-0_1.png\n"
     ]
    },
    {
     "data": {
      "application/vnd.jupyter.widget-view+json": {
       "model_id": "bd1c746846b54c92a686356ed782c304",
       "version_major": 2,
       "version_minor": 0
      },
      "text/plain": [
       "BokehModel(combine_events=True, render_bundle={'docs_json': {'5f1c1dbd-6335-4589-8372-a9d5ad963a96': {'defs': …"
      ]
     },
     "metadata": {},
     "output_type": "display_data"
    },
    {
     "data": {
      "text/html": [
       "<div style=\"display: none\"></div>"
      ],
      "text/plain": [
       "Column\n",
       "    [0] Column\n",
       "        [0] DiscreteSlider(formatter='%d', name='palettes', options=[10], value=10)\n",
       "        [1] DiscreteSlider(formatter='%d', name='palette_size', options=[3, 7, 15], value=3)\n",
       "        [2] DiscreteSlider(name='gamma', options=[0.0, 0.1, 1.0], value=0.0)\n",
       "        [3] DiscreteSlider(name='hdr_weight', options=[0.0, 0.1, 1.0], value=0.0)\n",
       "        [4] DiscreteSlider(name='smoothing_weight', options=[0.0, 0.1, 1.0], value=0.0)\n",
       "        [5] DiscreteSlider(name='palette_normalization_wei..., options=[0.0, 0.1, 1.0], value=0.0)\n",
       "        [6] IntSlider(end=40, name='i', start=1, value=1)\n",
       "    [1] Row\n",
       "        [0] HTML(str)"
      ]
     },
     "execution_count": 14,
     "metadata": {},
     "output_type": "execute_result"
    }
   ],
   "source": [
    "# to do: output and display palettes\n",
    "\n",
    "#kargs = {k:widgets.Dropdown(options=v, value=v[0], disabled=False, layout=Layout(width='auto')) for k,v in variant_ranges.items()}\n",
    "#kargs['i'] = widgets.IntSlider(min=1, max=40, step=1, value=1, continuous_update=False, readout=True, readout_format='d')\n",
    "\n",
    "n_imgs_per_group = 40\n",
    "\n",
    "kargs = {k:pn.widgets.DiscreteSlider(name=k, options=list(v), value=v[0]) for k,v in variant_ranges.items()}\n",
    "kargs['i'] = pn.widgets.IntSlider(name='i', start=1, end=n_imgs_per_group, step=1, value=1)\n",
    "\n",
    "PRELOAD_IMAGES = False\n",
    "from PIL import Image\n",
    "\n",
    "def read_image(fpath):\n",
    "    #return plt.imread(fpath)\n",
    "    #return pn.pane.PNG(fpath, width=700)\n",
    "    with Image.open(fpath) as _img:\n",
    "       img = _img.copy()\n",
    "    return img\n",
    "\n",
    "url_prefix = \"https://raw.githubusercontent.com/dmarx/pytti-settings-test/main/images_out/\"\n",
    "#im_path = im_path.replace('images_out/', url_prefix)\n",
    "\n",
    "image_paths = [str(p) for p in Path('images_out').glob('**/*.png')]\n",
    "#print(len(list(image_paths)))\n",
    "d_image_urls = {im_path:im_path.replace('images_out/', url_prefix) for im_path in image_paths}\n",
    "\n",
    "if PRELOAD_IMAGES:\n",
    "    d_images = {}\n",
    "    for folder in df_meta['fpath']:\n",
    "        for im_path in folder.glob('*.png'):\n",
    "            d_images[str(im_path)] = read_image(im_path)\n",
    "\n",
    "#@widgets.interact(\n",
    "@pn.interact(\n",
    "    **kargs\n",
    ")\n",
    "#@pn.interact\n",
    "def display_images(\n",
    "    palettes,\n",
    "    palette_size,\n",
    "    gamma,\n",
    "    hdr_weight,\n",
    "    smoothing_weight,\n",
    "    palette_normalization_weight,\n",
    "    i,\n",
    "):\n",
    "    folder = df_meta[\n",
    "        (palettes == df_meta['palettes']) &\n",
    "        (palette_size == df_meta['palette_size']) &\n",
    "        (gamma == df_meta['gamma']) &\n",
    "        (hdr_weight == df_meta['hdr_weight']) &\n",
    "        (smoothing_weight == df_meta['smoothing_weight']) &\n",
    "        (palette_normalization_weight == df_meta['palette_normalization_weight'])\n",
    "    ]['fpath'].values[0]\n",
    "    im_path = str(folder / f\"{folder.name}_{i}.png\")\n",
    "    im_url = d_image_urls[im_path]\n",
    "    #return Image(im_path, width=700)\n",
    "    #print(type(im_path))\n",
    "    #im = im_path\n",
    "    #url_prefix = \"https://raw.githubusercontent.com/dmarx/pytti-settings-test/main/images_out/\"\n",
    "    #im_path = im_path.replace('images_out/', url_prefix)\n",
    "    #print(im_path)\n",
    "    #if PRELOAD_IMAGES:\n",
    "    #    im = d_images[im_path]\n",
    "    #else:\n",
    "    #    im = im_path\n",
    "    #return pn.pane.PNG(im, width=700)\n",
    "    #return im\n",
    "    #return pn.pane.PNG(im_url, width=700)\n",
    "    return pn.pane.HTML(f'<img src=\"{im_url}\" width=\"700\">')\n",
    "\n",
    "# embedding this makes the page nearly a gigabyte in size.\n",
    "# need to use a CDN of something like that.\n",
    "pn.panel(display_images).embed(max_opts=n_imgs_per_group, max_states=999999999)\n",
    "#pn.panel(display_images)\n",
    "#display_images"
   ]
  }
 ],
 "metadata": {
  "interpreter": {
   "hash": "3eff1e1332ed0784bebe5613522d192d113df675730803c3b8984f113f4e15fd"
  },
  "kernelspec": {
   "display_name": "Python 3.9.7 ('pytti-book-l72HEyWC')",
   "language": "python",
   "name": "python3"
  },
  "language_info": {
   "codemirror_mode": {
    "name": "ipython",
    "version": 3
   },
   "file_extension": ".py",
   "mimetype": "text/x-python",
   "name": "python",
   "nbconvert_exporter": "python",
   "pygments_lexer": "ipython3",
   "version": "3.9.7"
  },
  "orig_nbformat": 4
 },
 "nbformat": 4,
 "nbformat_minor": 2
}
