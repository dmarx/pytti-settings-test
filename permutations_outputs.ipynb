{
 "cells": [
  {
   "cell_type": "code",
   "execution_count": 27,
   "metadata": {},
   "outputs": [],
   "source": [
    "import re\n",
    "from pathlib import Path\n",
    "\n",
    "import ipywidgets as widgets\n",
    "from ipywidgets import Layout, Button, HBox, VBox, Box, Dropdown, Select, Text, Output, IntSlider, Label\n",
    "from IPython.display import display, clear_output, Image, Video\n",
    "\n",
    "import pandas as pd\n",
    "import numpy as np"
   ]
  },
  {
   "cell_type": "code",
   "execution_count": 55,
   "metadata": {},
   "outputs": [
    {
     "data": {
      "text/plain": [
       "True"
      ]
     },
     "execution_count": 55,
     "metadata": {},
     "output_type": "execute_result"
    }
   ],
   "source": [
    "outputs_root = Path('images_out')\n",
    "folder_prefix = 'permutations_limited_palette_2D'\n",
    "folders = list(outputs_root.glob(f'{folder_prefix}_*'))\n",
    "len(folders)\n",
    "\n",
    "def format_val(v):\n",
    "    try:\n",
    "        v = float(v)\n",
    "        if int(v) == v:\n",
    "            v = int(v)\n",
    "    except:\n",
    "        pass\n",
    "    return v\n",
    "\n",
    "def parse_folder_name(folder):\n",
    "    #chunks = folder.name[1+len(folder_prefix):].split('_')\n",
    "    #chunks = folder.name[1+len(folder_prefix):].split('-')\n",
    "    metadata_string = folder.name[1+len(folder_prefix):]\n",
    "    pattern = r\"_?([a-zA-Z_]+)-([0-9.]+)\"\n",
    "    matches = re.findall(pattern, metadata_string)\n",
    "    d_ = {k:format_val(v) for k,v in matches}\n",
    "    d_['fpath'] = folder\n",
    "    d_['n_images'] = len(list(folder.glob('*.png')))\n",
    "    return d_\n",
    "\n",
    "#parse_folder_name(folders[0])\n",
    "df_meta = pd.DataFrame([parse_folder_name(f) for f in folders])\n",
    "\n",
    "variant_names = [v for v in df_meta.columns.tolist() if v not in ['fpath']]\n",
    "variant_ranges = {v:df_meta[v].unique() for v in variant_names}\n",
    "[v.sort() for v in variant_ranges.values()]\n",
    "True"
   ]
  },
  {
   "cell_type": "code",
   "execution_count": 56,
   "metadata": {},
   "outputs": [
    {
     "data": {
      "application/vnd.jupyter.widget-view+json": {
       "model_id": "364fa5af259b4a2bb2e7e45c221b9504",
       "version_major": 2,
       "version_minor": 0
      },
      "text/plain": [
       "interactive(children=(Dropdown(description='palettes', layout=Layout(width='auto'), options=(10,), value=10), …"
      ]
     },
     "metadata": {},
     "output_type": "display_data"
    }
   ],
   "source": [
    "# to do: output and display palettes\n",
    "\n",
    "kargs = {k:widgets.Dropdown(options=v, value=v[0], disabled=False, layout=Layout(width='auto')) for k,v in variant_ranges.items()}\n",
    "kargs['i'] = widgets.IntSlider(min=1, max=40, step=1, value=1, continuous_update=False, readout=True, readout_format='d')\n",
    "\n",
    "@widgets.interact(\n",
    "    **kargs\n",
    ")\n",
    "def display_images(\n",
    "    palettes,\n",
    "    palette_size,\n",
    "    gamma,\n",
    "    hdr_weight,\n",
    "    smoothing_weight,\n",
    "    palette_normalization_weight,\n",
    "    i,\n",
    "):\n",
    "    folder = df_meta[\n",
    "        (palettes == df_meta['palettes']) &\n",
    "        (palette_size == df_meta['palette_size']) &\n",
    "        (gamma == df_meta['gamma']) &\n",
    "        (hdr_weight == df_meta['hdr_weight']) &\n",
    "        (smoothing_weight == df_meta['smoothing_weight']) &\n",
    "        (palette_normalization_weight == df_meta['palette_normalization_weight'])\n",
    "    ]['fpath'].values[0]\n",
    "    im_path = str(folder / f\"{folder.name}_{i}.png\")\n",
    "    return Image(im_path, width=700)\n"
   ]
  }
 ],
 "metadata": {
  "interpreter": {
   "hash": "3eff1e1332ed0784bebe5613522d192d113df675730803c3b8984f113f4e15fd"
  },
  "kernelspec": {
   "display_name": "Python 3.9.7 ('pytti-book-l72HEyWC')",
   "language": "python",
   "name": "python3"
  },
  "language_info": {
   "codemirror_mode": {
    "name": "ipython",
    "version": 3
   },
   "file_extension": ".py",
   "mimetype": "text/x-python",
   "name": "python",
   "nbconvert_exporter": "python",
   "pygments_lexer": "ipython3",
   "version": "3.9.7"
  },
  "orig_nbformat": 4
 },
 "nbformat": 4,
 "nbformat_minor": 2
}
